{
 "cells": [
  {
   "cell_type": "code",
   "execution_count": 19,
   "metadata": {},
   "outputs": [],
   "source": [
    "import os\n",
    "from haystack.document_stores import InMemoryDocumentStore\n",
    "from haystack.utils import fetch_archive_from_http\n",
    "from haystack.pipelines.standard_pipelines import TextIndexingPipeline\n",
    "from haystack.nodes import BM25Retriever\n",
    "from haystack.nodes import FARMReader\n",
    "from haystack.pipelines import ExtractiveQAPipeline\n",
    "from pprint import pprint\n",
    "from haystack.utils import print_answers"
   ]
  },
  {
   "cell_type": "code",
   "execution_count": 20,
   "metadata": {},
   "outputs": [
    {
     "name": "stderr",
     "output_type": "stream",
     "text": [
      "Converting files: 100%|██████████| 1/1 [00:00<00:00, 506.07it/s]\n",
      "Preprocessing: 100%|██████████| 1/1 [00:00<00:00, 350.05docs/s]\n",
      "Updating BM25 representation...: 100%|██████████| 5/5 [00:00<00:00, 6563.86 docs/s]\n"
     ]
    },
    {
     "data": {
      "text/plain": [
       "{'documents': [<Document: {'content': \"Pichai Sundararajan (born June 10, 1972[3][4][5]), better known as Sundar Pichai (/ˈsʊndɑːr pɪˈtʃaɪ/), is an Indian-American business executive. He is the chief executive officer (CEO) of Alphabet Inc. and its subsidiary Google.[6]\\n\\nPichai began his career as a materials engineer. Following a short stint at the management consulting firm McKinsey & Co., Pichai joined Google in 2004,[7] where he led the product management and innovation efforts for a suite of Google's client software products, including Google Chrome and ChromeOS, as well as being largely responsible for Google Drive. In addition, he went on to oversee the development of other applications such as Gmail and Google Maps. In 2010, Pichai also announced the open-sourcing of the new video codec VP8 by Google and introduced the new video format, WebM. The Chromebook was released in 2012. In 2013, Pichai added Android to the list of Google products that he oversaw.\\n\\nPichai was selected to become the next CEO of Google on August 10, 2015, after previously being appointed Product Chief by CEO Larry Page. \", 'content_type': 'text', 'score': None, 'meta': {'_split_id': 0}, 'id_hash_keys': ['content'], 'embedding': None, 'id': 'd9a4cec3ca2506db886ef152a7503e6'}>,\n",
       "  <Document: {'content': \"On October 24, 2015, he stepped into the new position at the completion of the formation of Alphabet Inc., the new holding company for the Google company family. He was appointed to the Alphabet Board of Directors in 2017.[8]\\n\\nPichai was included in Time's annual list of the 100 most influential people in 2016[9] and 2020.[10]\\n\\nEarly life and education\\nPichai was born in Madurai, Tamil Nadu, India.[11][12][13] His mother, Lakshmi, was a stenographer, and his father, Regunatha Pichai, was an electrical engineer at GEC, the British conglomerate. His father also had a manufacturing plant that produced electrical components.[14][15]\\n\\nPichai completed schooling in Jawahar Vidyalaya Senior Secondary School[16] in Ashok Nagar, Chennai and completed the Class XII from Vana Vani school at IIT Madras.[17][18] He earned his degree from IIT Kharagpur in metallurgical engineering and is a distinguished alumnus from that institution.[19] He holds an M.S. from Stanford University in materials science and engineering, and an MBA from the Wharton School of the University of Pennsylvania,[20] where he was named a Siebel Scholar and a Palmer Scholar, respectively.\", 'content_type': 'text', 'score': None, 'meta': {'_split_id': 1}, 'id_hash_keys': ['content'], 'embedding': None, 'id': 'afaab09f4d845123db84e6ab7593966e'}>,\n",
       "  <Document: {'content': \"[3][21][22]\\n\\nCareer\\n\\nPichai speaking at the 2015 Mobile World Congress in Barcelona, Spain\\nPichai worked in engineering and product management at Applied Materials and in management consulting at McKinsey & Company.[23] Pichai joined Google in 2004, where he led the product management and innovation efforts for a suite of Google's client software products, including Google Chrome[24] and ChromeOS, as well as being largely responsible for Google Drive. He went on to oversee the development of other applications such as Gmail and Google Maps.[25][26] On November 19, 2009, Pichai gave a demonstration of ChromeOS; the Chromebook was released for trial and testing in 2011, and released to the public in 2012.[27] On May 20, 2010, he announced the open-sourcing of the new video codec VP8 by Google and introduced the new video format, WebM.[28]\\n\\nOn March 13, 2013, Pichai added Android to the list of Google products that he oversaw. Android was formerly managed by Andy Rubin.[29] He was a director of Jive Software from April 2011 to July 30, 2013.[30][31][32] Pichai was selected to become the next CEO of Google on August 10, 2015[33] after previously being appointed Product Chief by CEO, Larry Page. \", 'content_type': 'text', 'score': None, 'meta': {'_split_id': 2}, 'id_hash_keys': ['content'], 'embedding': None, 'id': 'f90ae7542e0db7b0310ee68533b0add6'}>,\n",
       "  <Document: {'content': 'On October 24, 2015, he stepped into the new position at the completion of the formation of Alphabet Inc., the new holding company for the Google company family.[34][32][35]\\n\\nPichai had been suggested as a contender for Microsoft\\'s CEO in 2014, a position that was eventually given to Satya Nadella.[36][37] In August 2017, Pichai drew publicity for firing a Google employee who wrote a ten-page manifesto criticizing the company\\'s diversity policies.[38][39][40][41][42]\\n\\nIn December 2017, Pichai was a speaker at the World Internet Conference in China, where he stated that \"a lot of work Google does is to help Chinese companies. There are many small and medium-sized businesses in China who take advantage of Google to get their products to many other countries outside of China.\"[43][44]\\n\\nIn December 2019, Pichai became the CEO of Alphabet Inc.[45][46] His compensation from the company topped $200 Million in 2022.[47]\\n\\nU.S. Congressional testimony\\nOn December 11, 2018, Sundar Pichai was questioned by the U.S. House Judiciary Committee on a range of Google-related issues such as possible political bias on Google\\'s platforms, the company\\'s alleged plans for a \"censored search app\" in China, and its privacy practices.', 'content_type': 'text', 'score': None, 'meta': {'_split_id': 3}, 'id_hash_keys': ['content'], 'embedding': None, 'id': 'a9e8e8aba07ab0324a9fc80c88dd3622'}>,\n",
       "  <Document: {'content': '[48] In response, Pichai informed the committee that Google employees cannot influence search results. He also stated that Google users can opt out of having their data collected and that \"there are no current plans for a censored search engine\" in China.[49]\\n\\nIn October 2020, the United States Senate Committee on Commerce, Science, and Transportation unanimously voted in favor of, and on a bipartisan basis, to subpoena Pichai, along with Facebook (today Meta) CEO Mark Zuckerberg and then Twitter CEO Jack Dorsey, to testify before the committee in response to lawmakers\\' concerns over the technology industry\\'s exemption from Section 230 of the Communications Decency Act of 1934.[50]\\n\\nAwards and recognition\\nIn 2022, Pichai received the Padma Bhushan in the category of Trade and Industry[51] from the Government of India, the country\\'s third-highest civilian award.[52][53]', 'content_type': 'text', 'score': None, 'meta': {'_split_id': 4}, 'id_hash_keys': ['content'], 'embedding': None, 'id': '351c84ce049a0679bd519636d0077d24'}>],\n",
       " 'root_node': 'File',\n",
       " 'params': {},\n",
       " 'file_paths': ['source_documents/sundhar.txt'],\n",
       " 'node_id': 'DocumentStore'}"
      ]
     },
     "execution_count": 20,
     "metadata": {},
     "output_type": "execute_result"
    }
   ],
   "source": [
    "document_store = InMemoryDocumentStore(use_bm25=True)\n",
    "doc_dir = \"source_documents\"\n",
    "files_to_index = [doc_dir + \"/\" + f for f in os.listdir(doc_dir)]\n",
    "indexing_pipeline = TextIndexingPipeline(document_store)\n",
    "indexing_pipeline.run_batch(file_paths=files_to_index)"
   ]
  },
  {
   "cell_type": "code",
   "execution_count": 21,
   "metadata": {},
   "outputs": [],
   "source": [
    "retriever = BM25Retriever(document_store=document_store)"
   ]
  },
  {
   "cell_type": "code",
   "execution_count": 22,
   "metadata": {},
   "outputs": [],
   "source": [
    "reader = FARMReader(model_name_or_path=\"deepset/roberta-base-squad2\", use_gpu=True)"
   ]
  },
  {
   "cell_type": "code",
   "execution_count": 23,
   "metadata": {},
   "outputs": [],
   "source": [
    "pipe = ExtractiveQAPipeline(reader, retriever)"
   ]
  },
  {
   "cell_type": "code",
   "execution_count": 29,
   "metadata": {},
   "outputs": [
    {
     "name": "stderr",
     "output_type": "stream",
     "text": [
      "Inferencing Samples: 100%|██████████| 1/1 [00:01<00:00,  1.01s/ Batches]\n"
     ]
    }
   ],
   "source": [
    "prediction = pipe.run(\n",
    "    query=\"who is Pichai?\",\n",
    "    params={\n",
    "        \"Retriever\": {\"top_k\": 2},\n",
    "        \"Reader\": {\"top_k\": 1}\n",
    "    }\n",
    ")"
   ]
  },
  {
   "cell_type": "code",
   "execution_count": 30,
   "metadata": {},
   "outputs": [
    {
     "name": "stdout",
     "output_type": "stream",
     "text": [
      "{'answers': [<Answer {'answer': 'Indian-American business executive', 'type': 'extractive', 'score': 0.4402552843093872, 'context': 'better known as Sundar Pichai (/ˈsʊndɑːr pɪˈtʃaɪ/), is an Indian-American business executive. He is the chief executive officer (CEO) of Alphabet Inc.', 'offsets_in_document': [{'start': 109, 'end': 143}], 'offsets_in_context': [{'start': 58, 'end': 92}], 'document_ids': ['d9a4cec3ca2506db886ef152a7503e6'], 'meta': {'_split_id': 0}}>],\n",
      " 'documents': [<Document: {'content': 'On October 24, 2015, he stepped into the new position at the completion of the formation of Alphabet Inc., the new holding company for the Google company family.[34][32][35]\\n\\nPichai had been suggested as a contender for Microsoft\\'s CEO in 2014, a position that was eventually given to Satya Nadella.[36][37] In August 2017, Pichai drew publicity for firing a Google employee who wrote a ten-page manifesto criticizing the company\\'s diversity policies.[38][39][40][41][42]\\n\\nIn December 2017, Pichai was a speaker at the World Internet Conference in China, where he stated that \"a lot of work Google does is to help Chinese companies. There are many small and medium-sized businesses in China who take advantage of Google to get their products to many other countries outside of China.\"[43][44]\\n\\nIn December 2019, Pichai became the CEO of Alphabet Inc.[45][46] His compensation from the company topped $200 Million in 2022.[47]\\n\\nU.S. Congressional testimony\\nOn December 11, 2018, Sundar Pichai was questioned by the U.S. House Judiciary Committee on a range of Google-related issues such as possible political bias on Google\\'s platforms, the company\\'s alleged plans for a \"censored search app\" in China, and its privacy practices.', 'content_type': 'text', 'score': 0.5632133445532707, 'meta': {'_split_id': 3}, 'id_hash_keys': ['content'], 'embedding': None, 'id': 'a9e8e8aba07ab0324a9fc80c88dd3622'}>,\n",
      "               <Document: {'content': \"Pichai Sundararajan (born June 10, 1972[3][4][5]), better known as Sundar Pichai (/ˈsʊndɑːr pɪˈtʃaɪ/), is an Indian-American business executive. He is the chief executive officer (CEO) of Alphabet Inc. and its subsidiary Google.[6]\\n\\nPichai began his career as a materials engineer. Following a short stint at the management consulting firm McKinsey & Co., Pichai joined Google in 2004,[7] where he led the product management and innovation efforts for a suite of Google's client software products, including Google Chrome and ChromeOS, as well as being largely responsible for Google Drive. In addition, he went on to oversee the development of other applications such as Gmail and Google Maps. In 2010, Pichai also announced the open-sourcing of the new video codec VP8 by Google and introduced the new video format, WebM. The Chromebook was released in 2012. In 2013, Pichai added Android to the list of Google products that he oversaw.\\n\\nPichai was selected to become the next CEO of Google on August 10, 2015, after previously being appointed Product Chief by CEO Larry Page. \", 'content_type': 'text', 'score': 0.5200569932694377, 'meta': {'_split_id': 0}, 'id_hash_keys': ['content'], 'embedding': None, 'id': 'd9a4cec3ca2506db886ef152a7503e6'}>],\n",
      " 'no_ans_gap': 9.198377966880798,\n",
      " 'node_id': 'Reader',\n",
      " 'params': {'Reader': {'top_k': 1}, 'Retriever': {'top_k': 2}},\n",
      " 'query': 'who is Pichai?',\n",
      " 'root_node': 'Query'}\n"
     ]
    }
   ],
   "source": [
    "pprint(prediction)"
   ]
  },
  {
   "cell_type": "code",
   "execution_count": 44,
   "metadata": {},
   "outputs": [
    {
     "data": {
      "text/plain": [
       "'better known as Sundar Pichai (/ˈsʊndɑːr pɪˈtʃaɪ/), is an Indian-American business executive. He is the chief executive officer (CEO) of Alphabet Inc.'"
      ]
     },
     "execution_count": 44,
     "metadata": {},
     "output_type": "execute_result"
    }
   ],
   "source": [
    "prediction['answers'][0].context"
   ]
  }
 ],
 "metadata": {
  "kernelspec": {
   "display_name": "qa_model",
   "language": "python",
   "name": "python3"
  },
  "language_info": {
   "codemirror_mode": {
    "name": "ipython",
    "version": 3
   },
   "file_extension": ".py",
   "mimetype": "text/x-python",
   "name": "python",
   "nbconvert_exporter": "python",
   "pygments_lexer": "ipython3",
   "version": "3.10.6"
  },
  "orig_nbformat": 4
 },
 "nbformat": 4,
 "nbformat_minor": 2
}
